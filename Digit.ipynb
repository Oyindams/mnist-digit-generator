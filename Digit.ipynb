{
  "nbformat": 4,
  "nbformat_minor": 0,
  "metadata": {
    "colab": {
      "provenance": []
    },
    "kernelspec": {
      "name": "python3",
      "display_name": "Python 3"
    },
    "language_info": {
      "name": "python"
    }
  },
  "cells": [
    {
      "cell_type": "code",
      "execution_count": 16,
      "metadata": {
        "id": "sRwaeKb24OYn"
      },
      "outputs": [],
      "source": [
        "# MNIST Generator Training in PyTorch\n",
        "import torch\n",
        "import torch.nn as nn\n",
        "import torch.optim as optim\n",
        "from torchvision import datasets, transforms\n",
        "from torch.utils.data import DataLoader\n",
        "import matplotlib.pyplot as plt\n",
        "import os"
      ]
    },
    {
      "cell_type": "code",
      "source": [
        "# Generator network (Simple ConvTranspose2D)\n",
        "class Generator(nn.Module):\n",
        "    def __init__(self, latent_dim=100, num_classes=10):\n",
        "        super(Generator, self).__init__()\n",
        "        self.label_embed = nn.Embedding(num_classes, latent_dim)\n",
        "        self.net = nn.Sequential(\n",
        "            nn.Linear(latent_dim, 128),\n",
        "            nn.ReLU(True),\n",
        "            nn.Linear(128, 784),\n",
        "            nn.Tanh()\n",
        "        )\n"
      ],
      "metadata": {
        "id": "3SxoAlWC4xz8"
      },
      "execution_count": 17,
      "outputs": []
    },
    {
      "cell_type": "code",
      "source": [
        " def forward(self, z, labels):\n",
        "        # Element-wise multiply noise and label embedding\n",
        "        x = z * self.label_embed(labels)\n",
        "        out = self.net(x)\n",
        "        return out.view(-1, 1, 28, 28)"
      ],
      "metadata": {
        "id": "IhqZo7MX4maK"
      },
      "execution_count": 18,
      "outputs": []
    },
    {
      "cell_type": "code",
      "source": [
        "# Hyperparameters\n",
        "latent_dim = 100\n",
        "epochs = 10\n",
        "batch_size = 64\n",
        "device = 'cuda' if torch.cuda.is_available() else 'cpu'"
      ],
      "metadata": {
        "id": "uIwmq0tW5oli"
      },
      "execution_count": 19,
      "outputs": []
    },
    {
      "cell_type": "code",
      "source": [
        "# Prepare data\n",
        "transform = transforms.Compose([transforms.ToTensor(), transforms.Normalize([0.5], [0.5])])\n",
        "train_loader = DataLoader(datasets.MNIST('.', train=True, download=True, transform=transform), batch_size=batch_size, shuffle=True)\n",
        "\n",
        "# Model, loss, optimizer\n",
        "model = Generator(latent_dim).to(device)\n",
        "loss_fn = nn.MSELoss()\n",
        "optimizer = optim.Adam(model.parameters(), lr=0.0002)"
      ],
      "metadata": {
        "colab": {
          "base_uri": "https://localhost:8080/"
        },
        "id": "y7oFjFOh53tn",
        "outputId": "9a21e7e0-7b28-4eab-d302-6477e4ffb0e8"
      },
      "execution_count": 20,
      "outputs": [
        {
          "output_type": "stream",
          "name": "stderr",
          "text": [
            "100%|██████████| 9.91M/9.91M [00:00<00:00, 70.1MB/s]\n",
            "100%|██████████| 28.9k/28.9k [00:00<00:00, 31.5MB/s]\n",
            "100%|██████████| 1.65M/1.65M [00:00<00:00, 87.3MB/s]\n",
            "100%|██████████| 4.54k/4.54k [00:00<00:00, 5.48MB/s]\n"
          ]
        }
      ]
    },
    {
      "cell_type": "code",
      "source": [
        "class Generator(nn.Module):\n",
        "    def __init__(self, latent_dim=100, num_classes=10):\n",
        "        super(Generator, self).__init__()\n",
        "        self.label_embed = nn.Embedding(num_classes, latent_dim)\n",
        "        self.net = nn.Sequential(\n",
        "            nn.Linear(latent_dim, 128),\n",
        "            nn.ReLU(True),\n",
        "            nn.Linear(128, 784),\n",
        "            nn.Tanh()\n",
        "        )\n",
        "\n",
        "    def forward(self, z, labels):\n",
        "        # Embed the label and element-wise multiply it with the noise\n",
        "        embedded_labels = self.label_embed(labels)\n",
        "        x = z * embedded_labels\n",
        "        out = self.net(x)\n",
        "        return out.view(-1, 1, 28, 28)\n",
        "\n"
      ],
      "metadata": {
        "id": "1WKahIYp57Js"
      },
      "execution_count": 24,
      "outputs": []
    },
    {
      "cell_type": "code",
      "source": [
        "# Save the model\n",
        "os.makedirs(\"saved_models\", exist_ok=True)\n",
        "torch.save(model.state_dict(), \"saved_models/generator_mnist.pth\")"
      ],
      "metadata": {
        "id": "rEhcRTw_CU6G"
      },
      "execution_count": 25,
      "outputs": []
    }
  ]
}